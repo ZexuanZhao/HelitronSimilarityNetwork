{
 "cells": [
  {
   "cell_type": "code",
   "execution_count": 1,
   "metadata": {
    "collapsed": true,
    "pycharm": {
     "name": "#%%\n"
    }
   },
   "outputs": [],
   "source": [
    "import igraph as ig\n",
    "import pandas as pd\n",
    "import matplotlib.pyplot as plt\n",
    "import numpy as np"
   ]
  },
  {
   "cell_type": "markdown",
   "source": [
    "# Assignment bipartite network"
   ],
   "metadata": {
    "collapsed": false,
    "pycharm": {
     "name": "#%% md\n"
    }
   }
  },
  {
   "cell_type": "code",
   "execution_count": 2,
   "outputs": [],
   "source": [
    "assignment = np.loadtxt(open(\"assignment.csv\", \"rb\"), delimiter=\",\", skiprows=1)\n",
    "row_sums = assignment.sum(axis=1)\n",
    "assignment_normalized_by_row = assignment / row_sums[:, np.newaxis]"
   ],
   "metadata": {
    "collapsed": false,
    "pycharm": {
     "name": "#%%\n"
    }
   }
  },
  {
   "cell_type": "code",
   "execution_count": 3,
   "outputs": [],
   "source": [
    "assignment_tb = pd.DataFrame(assignment_normalized_by_row,\n",
    "                             index=list(range(assignment_normalized_by_row.shape[0])),\n",
    "                             columns=list(range(assignment_normalized_by_row.shape[0],\n",
    "                                                assignment_normalized_by_row.shape[0] + assignment_normalized_by_row.shape[1])\n",
    "                                          )\n",
    "                             )\n",
    "assignment_edge_tb = assignment_tb.stack()\n",
    "assignment_edge_tb.name = \"p_shared\"\n",
    "assignment_edge_tb = assignment_edge_tb.reset_index()\n",
    "assignment_edge_tb = assignment_edge_tb.rename(columns={'level_0': 'family', 'level_1': 'cluster'})\n",
    "assignment_edge_tb = assignment_edge_tb.loc[assignment_edge_tb['p_shared'] > 0.1]\n",
    "assignment_edge_tb=assignment_edge_tb.reset_index()\n",
    "assignment_edge_tb=assignment_edge_tb.drop(['index'],axis=1)"
   ],
   "metadata": {
    "collapsed": false,
    "pycharm": {
     "name": "#%%\n"
    }
   }
  },
  {
   "cell_type": "code",
   "execution_count": 4,
   "outputs": [],
   "source": [
    "assignment_node_tb = pd.DataFrame({\"node\": list(range(assignment_normalized_by_row.shape[0] + assignment_normalized_by_row.shape[1])),\n",
    "                                   \"type\": [0] * assignment_normalized_by_row.shape[0] + [1] * assignment_normalized_by_row.shape[1]})"
   ],
   "metadata": {
    "collapsed": false,
    "pycharm": {
     "name": "#%%\n"
    }
   }
  },
  {
   "cell_type": "code",
   "execution_count": 59,
   "outputs": [],
   "source": [
    "ag = ig.Graph.DataFrame(assignment_edge_tb, vertices= assignment_node_tb)"
   ],
   "metadata": {
    "collapsed": false,
    "pycharm": {
     "name": "#%%\n"
    }
   }
  },
  {
   "cell_type": "code",
   "execution_count": 61,
   "outputs": [],
   "source": [
    "ag.write(\"data/assignment.graphml\", format = \"graphml\")"
   ],
   "metadata": {
    "collapsed": false,
    "pycharm": {
     "name": "#%%\n"
    }
   }
  },
  {
   "cell_type": "code",
   "execution_count": 8,
   "outputs": [
    {
     "data": {
      "text/plain": "54"
     },
     "execution_count": 8,
     "metadata": {},
     "output_type": "execute_result"
    }
   ],
   "source": [
    "len(set(assignment_edge_tb[\"cluster\"]))"
   ],
   "metadata": {
    "collapsed": false,
    "pycharm": {
     "name": "#%%\n"
    }
   }
  },
  {
   "cell_type": "code",
   "execution_count": 11,
   "outputs": [
    {
     "data": {
      "text/plain": "23"
     },
     "execution_count": 11,
     "metadata": {},
     "output_type": "execute_result"
    }
   ],
   "source": [
    "len([p for p in list((set(assignment_edge_tb[\"cluster\"]))) if list(assignment_edge_tb[\"cluster\"]).count(p) > 1])"
   ],
   "metadata": {
    "collapsed": false,
    "pycharm": {
     "name": "#%%\n"
    }
   }
  },
  {
   "cell_type": "code",
   "execution_count": 12,
   "outputs": [
    {
     "data": {
      "text/plain": "68"
     },
     "execution_count": 12,
     "metadata": {},
     "output_type": "execute_result"
    }
   ],
   "source": [
    "len(set(assignment_edge_tb[\"family\"]))"
   ],
   "metadata": {
    "collapsed": false,
    "pycharm": {
     "name": "#%%\n"
    }
   }
  },
  {
   "cell_type": "code",
   "execution_count": 13,
   "outputs": [
    {
     "data": {
      "text/plain": "38"
     },
     "execution_count": 13,
     "metadata": {},
     "output_type": "execute_result"
    }
   ],
   "source": [
    "len([p for p in list((set(assignment_edge_tb[\"family\"]))) if list(assignment_edge_tb[\"family\"]).count(p) > 1])"
   ],
   "metadata": {
    "collapsed": false,
    "pycharm": {
     "name": "#%%\n"
    }
   }
  }
 ],
 "metadata": {
  "kernelspec": {
   "display_name": "Python 3",
   "language": "python",
   "name": "python3"
  },
  "language_info": {
   "codemirror_mode": {
    "name": "ipython",
    "version": 2
   },
   "file_extension": ".py",
   "mimetype": "text/x-python",
   "name": "python",
   "nbconvert_exporter": "python",
   "pygments_lexer": "ipython2",
   "version": "2.7.6"
  }
 },
 "nbformat": 4,
 "nbformat_minor": 0
}